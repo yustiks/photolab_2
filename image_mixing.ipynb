{
  "nbformat": 4,
  "nbformat_minor": 0,
  "metadata": {
    "colab": {
      "name": "image_mixing.ipynb",
      "version": "0.3.2",
      "provenance": [],
      "collapsed_sections": [],
      "include_colab_link": true
    },
    "kernelspec": {
      "name": "python3",
      "display_name": "Python 3"
    }
  },
  "cells": [
    {
      "cell_type": "markdown",
      "metadata": {
        "id": "view-in-github",
        "colab_type": "text"
      },
      "source": [
        "<a href=\"https://colab.research.google.com/github/yustiks/photolab_2/blob/master/image_mixing.ipynb\" target=\"_parent\"><img src=\"https://colab.research.google.com/assets/colab-badge.svg\" alt=\"Open In Colab\"/></a>"
      ]
    },
    {
      "metadata": {
        "id": "R21s67GjqRLE",
        "colab_type": "code",
        "outputId": "3f016027-7e10-46d7-dc64-c413401ceb31",
        "colab": {
          "base_uri": "https://localhost:8080/",
          "height": 34
        }
      },
      "cell_type": "code",
      "source": [
        "from __future__ import print_function\n",
        "from matplotlib import pyplot as plt\n",
        "import cv2\n",
        "import numpy as np\n",
        "import glob\n",
        "from cv2 import VideoWriter, VideoWriter_fourcc\n",
        "from datetime import datetime\n",
        "from PIL import Image, ImageFont, ImageDraw\n",
        "\n",
        "\n",
        "def drawTextWithOutline(text, x, y, font):\n",
        "\n",
        "    draw.text((x-2, y-2), text,(0,0,0),font=font)\n",
        "    draw.text((x+2, y-2), text,(0,0,0),font=font)\n",
        "    draw.text((x+2, y+2), text,(0,0,0),font=font)\n",
        "    draw.text((x-2, y+2), text,(0,0,0),font=font)\n",
        "    draw.text((x, y), text, (255,255,255), font=font)\n",
        "    return\n",
        "  \n",
        "def drawText(text, pos, font):\n",
        "    text = text.upper()\n",
        "\n",
        "    w, h = draw.textsize(text, font) # measure the size the text will take\n",
        "\n",
        "    lineCount = 1\n",
        "    if w > img.width:\n",
        "        lineCount = int(round((w / img.width) + 1))\n",
        "\n",
        "    lines = []\n",
        "\n",
        "    if lineCount > 1:\n",
        "\n",
        "        lastCut = 0\n",
        "        isLast = False\n",
        "        for i in range(0,lineCount):\n",
        "            if lastCut == 0:\n",
        "                cut = int(len(text) / lineCount) * i\n",
        "            else:\n",
        "                cut = lastCut\n",
        "\n",
        "            if i < lineCount-1:\n",
        "                nextCut = int(len(text) / lineCount) * (i+1)\n",
        "            else:\n",
        "                nextCut = len(text)\n",
        "                isLast = True\n",
        "\n",
        "            # make sure we don't cut words in half\n",
        "            if nextCut == len(text) or text[nextCut] == \" \":\n",
        "                pass\n",
        "            else:\n",
        "                while text[nextCut] != \" \":\n",
        "                    nextCut += 1\n",
        "\n",
        "            line = text[cut:nextCut].strip()\n",
        "\n",
        "            # is line still fitting ?\n",
        "            w, h = draw.textsize(line, font)\n",
        "            if not isLast and w > img.width:\n",
        "                nextCut -= 1\n",
        "                while text[nextCut] != \" \":\n",
        "                    nextCut -= 1\n",
        "\n",
        "            lastCut = nextCut\n",
        "            lines.append(text[cut:nextCut].strip())\n",
        "\n",
        "    else:\n",
        "        lines.append(text)\n",
        "\n",
        "\n",
        "    lastY = -h\n",
        "    if pos == \"bottom\":\n",
        "        lastY = img.height - h * (lineCount+1) - 10\n",
        "    return lineCount, lines, lastY\n",
        "  \n",
        "def draw_all(lineCount, lines, lastY, font):\n",
        "  for i in range(0, lineCount):\n",
        "      w, h = draw.textsize(lines[i], font)\n",
        "      x = img.width/2 - w/2\n",
        "      y = lastY + h\n",
        "      drawTextWithOutline(lines[i], x, y, font)\n",
        "      lastY = y\n",
        "        \n",
        "        \n",
        "t = datetime.now()\n",
        "\n",
        "# [load]\n",
        "src1 = cv2.imread('alena.png')\n",
        "src2 = cv2.imread('tree.jpg')\n",
        "\n",
        "height, width, depth = src2.shape\n",
        "imgScale = 700/width\n",
        "newX,newY = src1.shape[1]*imgScale, src1.shape[0]*imgScale\n",
        "size = (int(newX),int(newY))\n",
        "src1 = cv2.resize(src1, size)\n",
        "img = Image.fromarray(src1)\n",
        "gray = cv2.cvtColor(src1, cv2.COLOR_BGR2GRAY)\n",
        "gray = cv2.cvtColor(gray, cv2.COLOR_GRAY2BGR)\n",
        "\n",
        "src2 = cv2.resize(src2,(int(newX),int(newY)))\n",
        "\n",
        "video = cv2.VideoWriter('project.mp4',cv2.VideoWriter_fourcc(*'DIVX'), 30, size)\n",
        "\n",
        "text = \"Юстина make memes great again with several lines make memes great again with several lines\"\n",
        "if len(text)<10:\n",
        "  font = ImageFont.truetype(\"impact.ttf\", int(72*imgScale))\n",
        "elif len(text)<40:\n",
        "  font = ImageFont.truetype(\"impact.ttf\", int(62*imgScale))\n",
        "elif len(text)<60:\n",
        "  font = ImageFont.truetype(\"impact.ttf\", int(52*imgScale))\n",
        "else:\n",
        "  font = ImageFont.truetype(\"impact.ttf\", int(42*imgScale))\n",
        "lineCount, lines, lastY = drawText(text, 'bottom', font)\n",
        "\n",
        "for i in range(0,75): \n",
        "\t# [blend_images]\n",
        "\talpha = i/75\n",
        "\tbeta = (1.0 - alpha)\n",
        "\tdst = cv2.addWeighted(gray, alpha, src1, beta, 0.0)\n",
        "\timg = Image.fromarray(dst)\n",
        "\tdraw = ImageDraw.Draw(img)\n",
        "\tdraw_all(lineCount, lines, lastY, font)\n",
        "#\tdrawText(text, \"bottom\", font)\n",
        "\tvideo.write(np.array(img))\n",
        "for i in range(75,400): \n",
        "\t# [blend_images]\n",
        "\talpha = (i - 75)/325\n",
        "\tbeta = (1.0 - alpha)\n",
        "\tdst = cv2.addWeighted(src2, alpha, gray, beta, 0.0)\n",
        "\timg = Image.fromarray(dst)\n",
        "\tdraw = ImageDraw.Draw(img)\n",
        "\tdraw_all(lineCount, lines, lastY, font)\n",
        "#\tdrawText(text, \"bottom\", font)\n",
        "\timg.save(\"out.jpg\")\n",
        "\tvideo.write(np.array(img))\n",
        "\tif i == 300:\n",
        "\t\tbreak\n",
        "print(datetime.now()-t)\n",
        "video.release()\t\n"
      ],
      "execution_count": 35,
      "outputs": [
        {
          "output_type": "stream",
          "text": [
            "0:00:03.813235\n"
          ],
          "name": "stdout"
        }
      ]
    },
    {
      "metadata": {
        "id": "bWHVKg38fUYK",
        "colab_type": "code",
        "outputId": "a3ab13c3-a2f8-4faa-c37e-121cbccc8626",
        "colab": {
          "base_uri": "https://localhost:8080/",
          "height": 136
        }
      },
      "cell_type": "code",
      "source": [
        "from moviepy.editor import *\n",
        "t = datetime.now()\n",
        "videoclip = VideoFileClip(\"project.mp4\")\n",
        "videoclip.write_videofile(\"output.mp4\", audio=\"hello_1.mp3\")\n",
        "print(datetime.now()-t)"
      ],
      "execution_count": 36,
      "outputs": [
        {
          "output_type": "stream",
          "text": [
            "[MoviePy] >>>> Building video output.mp4\n",
            "[MoviePy] Writing video output.mp4\n"
          ],
          "name": "stdout"
        },
        {
          "output_type": "stream",
          "text": [
            "100%|██████████| 301/301 [00:01<00:00, 189.75it/s]\n"
          ],
          "name": "stderr"
        },
        {
          "output_type": "stream",
          "text": [
            "[MoviePy] Done.\n",
            "[MoviePy] >>>> Video ready: output.mp4 \n",
            "\n",
            "0:00:01.822269\n"
          ],
          "name": "stdout"
        }
      ]
    }
  ]
}