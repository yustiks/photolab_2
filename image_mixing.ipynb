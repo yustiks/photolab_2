{
  "nbformat": 4,
  "nbformat_minor": 0,
  "metadata": {
    "colab": {
      "name": "image_mixing.ipynb",
      "version": "0.3.2",
      "provenance": [],
      "collapsed_sections": [],
      "include_colab_link": true
    },
    "kernelspec": {
      "name": "python3",
      "display_name": "Python 3"
    }
  },
  "cells": [
    {
      "cell_type": "markdown",
      "metadata": {
        "id": "view-in-github",
        "colab_type": "text"
      },
      "source": [
        "<a href=\"https://colab.research.google.com/github/yustiks/photolab_2/blob/master/image_mixing.ipynb\" target=\"_parent\"><img src=\"https://colab.research.google.com/assets/colab-badge.svg\" alt=\"Open In Colab\"/></a>"
      ]
    },
    {
      "cell_type": "code",
      "metadata": {
        "id": "fKaNvqrs6CIu",
        "colab_type": "code",
        "outputId": "19d64221-8906-425d-ab70-9e44ed2b8c26",
        "colab": {
          "base_uri": "https://localhost:8080/",
          "height": 122
        }
      },
      "source": [
        "from google.colab import drive\n",
        "drive.mount('/content/gdrive')"
      ],
      "execution_count": 1,
      "outputs": [
        {
          "output_type": "stream",
          "text": [
            "Go to this URL in a browser: https://accounts.google.com/o/oauth2/auth?client_id=947318989803-6bn6qk8qdgf4n4g3pfee6491hc0brc4i.apps.googleusercontent.com&redirect_uri=urn%3Aietf%3Awg%3Aoauth%3A2.0%3Aoob&scope=email%20https%3A%2F%2Fwww.googleapis.com%2Fauth%2Fdocs.test%20https%3A%2F%2Fwww.googleapis.com%2Fauth%2Fdrive%20https%3A%2F%2Fwww.googleapis.com%2Fauth%2Fdrive.photos.readonly%20https%3A%2F%2Fwww.googleapis.com%2Fauth%2Fpeopleapi.readonly&response_type=code\n",
            "\n",
            "Enter your authorization code:\n",
            "··········\n",
            "Mounted at /content/gdrive\n"
          ],
          "name": "stdout"
        }
      ]
    },
    {
      "cell_type": "code",
      "metadata": {
        "id": "VX-PTGrWlMQG",
        "colab_type": "code",
        "colab": {}
      },
      "source": [
        "#import shutil\n",
        "#shutil.rmtree('out')\n",
        "import os\n",
        "os.mkdir('out_1')"
      ],
      "execution_count": 0,
      "outputs": []
    },
    {
      "cell_type": "code",
      "metadata": {
        "id": "R21s67GjqRLE",
        "colab_type": "code",
        "outputId": "bb218d31-737d-4d49-a1cc-d6db3e5a9cf7",
        "colab": {
          "base_uri": "https://localhost:8080/",
          "height": 326
        }
      },
      "source": [
        "from __future__ import print_function\n",
        "from matplotlib import pyplot as plt\n",
        "import cv2\n",
        "import numpy as np\n",
        "import glob\n",
        "from cv2 import VideoWriter, VideoWriter_fourcc\n",
        "from datetime import datetime\n",
        "from PIL import Image, ImageFont, ImageDraw\n",
        "\n",
        "def drawTextWithOutline(text, x, y, font):\n",
        "\n",
        "    draw.text((x-2, y-2), text,(0,0,0),font=font)\n",
        "    draw.text((x+2, y-2), text,(0,0,0),font=font)\n",
        "    draw.text((x+2, y+2), text,(0,0,0),font=font)\n",
        "    draw.text((x-2, y+2), text,(0,0,0),font=font)\n",
        "    draw.text((x, y), text, (255,255,255), font=font)\n",
        "    return\n",
        "  \n",
        "def drawText(text, pos, font):\n",
        "    text = text.upper()\n",
        "\n",
        "    w, h = draw.textsize(text, font) # measure the size the text will take\n",
        "\n",
        "    lineCount = 1\n",
        "    if w > img.width:\n",
        "        lineCount = int(round((w / img.width) + 1))\n",
        "\n",
        "    lines = []\n",
        "\n",
        "    if lineCount > 1:\n",
        "\n",
        "        lastCut = 0\n",
        "        isLast = False\n",
        "        for i in range(0,lineCount):\n",
        "            if lastCut == 0:\n",
        "                cut = int(len(text) / lineCount) * i\n",
        "            else:\n",
        "                cut = lastCut\n",
        "\n",
        "            if i < lineCount-1:\n",
        "                nextCut = int(len(text) / lineCount) * (i+1)\n",
        "            else:\n",
        "                nextCut = len(text)\n",
        "                isLast = True\n",
        "\n",
        "            # make sure we don't cut words in half\n",
        "            if nextCut == len(text) or text[nextCut] == \" \":\n",
        "                pass\n",
        "            else:\n",
        "                while text[nextCut] != \" \":\n",
        "                    nextCut += 1\n",
        "\n",
        "            line = text[cut:nextCut].strip()\n",
        "\n",
        "            # is line still fitting ?\n",
        "            w, h = draw.textsize(line, font)\n",
        "            if not isLast and w > img.width:\n",
        "                nextCut -= 1\n",
        "                while text[nextCut] != \" \":\n",
        "                    nextCut -= 1\n",
        "\n",
        "            lastCut = nextCut\n",
        "            lines.append(text[cut:nextCut].strip())\n",
        "\n",
        "    else:\n",
        "        lines.append(text)\n",
        "\n",
        "\n",
        "    lastY = -h\n",
        "    if pos == \"bottom\":\n",
        "        lastY = img.height - h * (lineCount+1) - 10\n",
        "    return lineCount, lines, lastY\n",
        "  \n",
        "def draw_all(lineCount, lines, lastY, font):\n",
        "  for i in range(0, lineCount):\n",
        "      w, h = draw.textsize(lines[i], font)\n",
        "      x = img.width/2 - w/2\n",
        "      y = lastY + h\n",
        "      drawTextWithOutline(lines[i], x, y, font)\n",
        "      lastY = y\n",
        "        \n",
        "        \n",
        "t = datetime.now()\n",
        "\n",
        "name_img = input(\"Enter name of image:\")\n",
        "src1 = cv2.imread('gdrive/My Drive/' + name_img)\n",
        "src2 = cv2.imread('gdrive/My Drive/' + 'tree.jpg')\n",
        "\n",
        "height, width, depth = src1.shape\n",
        "imgScale = 500/width\n",
        "newX,newY = src1.shape[1]*imgScale, src1.shape[0]*imgScale\n",
        "size = (int(newX),int(newY))\n",
        "\n",
        "src1 = cv2.resize(src1, size)\n",
        "img = Image.fromarray(src1)\n",
        "gray = cv2.cvtColor(src1, cv2.COLOR_BGR2GRAY)\n",
        "gray = cv2.cvtColor(gray, cv2.COLOR_GRAY2BGR)\n",
        "\n",
        "src2 = cv2.resize(src2, size)\n",
        "\n",
        "video = cv2.VideoWriter('project_1.mp4',cv2.VideoWriter_fourcc(*'DIVX'), 30, size)\n",
        "\n",
        "text = input(\"Enter text: \")\n",
        "print(text)\n",
        "if len(text)<10:\n",
        "  font = ImageFont.truetype(\"gdrive/My Drive/impact.ttf\", int(72*imgScale))\n",
        "elif len(text)<40:\n",
        "  font = ImageFont.truetype(\"gdrive/My Drive/impact.ttf\", int(62*imgScale))\n",
        "elif len(text)<60:\n",
        "  font = ImageFont.truetype(\"gdrive/My Drive/impact.ttf\", int(52*imgScale))\n",
        "else:\n",
        "  font = ImageFont.truetype(\"gdrive/My Drive/impact.ttf\", int(42*imgScale))\n",
        "img = Image.fromarray(src2)\n",
        "draw = ImageDraw.Draw(img)\n",
        "lineCount, lines, lastY = drawText(text, 'bottom', font)\n",
        "\n",
        "for i in range(0,75): \n",
        "\t# [blend_images]\n",
        "\talpha = i/75\n",
        "\tbeta = (1.0 - alpha)\n",
        "\tdst = cv2.addWeighted(gray, alpha, src1, beta, 0.0)\n",
        "\timg = Image.fromarray(dst)\n",
        "\tdraw = ImageDraw.Draw(img)\n",
        "\tdraw_all(lineCount, lines, lastY, font)\n",
        "#\tdrawText(text, \"bottom\", font)\n",
        "\tvideo.write(np.array(img))\n",
        "for i in range(75,400): \n",
        "\t# [blend_images]\n",
        "\talpha = (i - 75)/325\n",
        "\tbeta = (1.0 - alpha)\n",
        "\tdst = cv2.addWeighted(src2, alpha, gray, beta, 0.0)\n",
        "\timg = Image.fromarray(dst)\n",
        "\tdraw = ImageDraw.Draw(img)\n",
        "\tdraw_all(lineCount, lines, lastY, font)\n",
        "#\tdrawText(text, \"bottom\", font)\n",
        "#\timg.save(\"out.jpg\")\n",
        "\tvideo.write(np.array(img))\n",
        "\tif i == 300:\n",
        "\t\tbreak\n",
        "print(datetime.now()-t)\n",
        "video.release()\t\n",
        "\n",
        "from moviepy.editor import *\n",
        "videoclip = VideoFileClip(\"project_1.mp4\")\n",
        "videoclip.write_videofile(\"output_1.mp4\", audio=\"gdrive/My Drive/hello_1.mp3\")\n",
        "print(datetime.now()-t)\n",
        "print('output_1.mp4')"
      ],
      "execution_count": 2,
      "outputs": [
        {
          "output_type": "stream",
          "text": [
            "Enter name of image:input1.jpg\n",
            "Enter text: Всем привет!\n",
            "Всем привет!\n",
            "0:00:21.011128\n",
            "Imageio: 'ffmpeg-linux64-v3.3.1' was not found on your computer; downloading it now.\n",
            "Try 1. Download from https://github.com/imageio/imageio-binaries/raw/master/ffmpeg/ffmpeg-linux64-v3.3.1 (43.8 MB)\n",
            "Downloading: 8192/45929032 bytes (0.0%)\b\b\b\b\b\b\b\b\b\b\b\b\b\b\b\b\b\b\b\b\b\b\b\b\b\b2473984/45929032 bytes (5.4%)\b\b\b\b\b\b\b\b\b\b\b\b\b\b\b\b\b\b\b\b\b\b\b\b\b\b\b\b\b5767168/45929032 bytes (12.6%)\b\b\b\b\b\b\b\b\b\b\b\b\b\b\b\b\b\b\b\b\b\b\b\b\b\b\b\b\b\b9084928/45929032 bytes (19.8%)\b\b\b\b\b\b\b\b\b\b\b\b\b\b\b\b\b\b\b\b\b\b\b\b\b\b\b\b\b\b12304384/45929032 bytes (26.8%)\b\b\b\b\b\b\b\b\b\b\b\b\b\b\b\b\b\b\b\b\b\b\b\b\b\b\b\b\b\b\b15581184/45929032 bytes (33.9%)\b\b\b\b\b\b\b\b\b\b\b\b\b\b\b\b\b\b\b\b\b\b\b\b\b\b\b\b\b\b\b18964480/45929032 bytes (41.3%)\b\b\b\b\b\b\b\b\b\b\b\b\b\b\b\b\b\b\b\b\b\b\b\b\b\b\b\b\b\b\b22249472/45929032 bytes (48.4%)\b\b\b\b\b\b\b\b\b\b\b\b\b\b\b\b\b\b\b\b\b\b\b\b\b\b\b\b\b\b\b25657344/45929032 bytes (55.9%)\b\b\b\b\b\b\b\b\b\b\b\b\b\b\b\b\b\b\b\b\b\b\b\b\b\b\b\b\b\b\b28868608/45929032 bytes (62.9%)\b\b\b\b\b\b\b\b\b\b\b\b\b\b\b\b\b\b\b\b\b\b\b\b\b\b\b\b\b\b\b32350208/45929032 bytes (70.4%)\b\b\b\b\b\b\b\b\b\b\b\b\b\b\b\b\b\b\b\b\b\b\b\b\b\b\b\b\b\b\b35258368/45929032 bytes (76.8%)\b\b\b\b\b\b\b\b\b\b\b\b\b\b\b\b\b\b\b\b\b\b\b\b\b\b\b\b\b\b\b38715392/45929032 bytes (84.3%)\b\b\b\b\b\b\b\b\b\b\b\b\b\b\b\b\b\b\b\b\b\b\b\b\b\b\b\b\b\b\b42033152/45929032 bytes (91.5%)\b\b\b\b\b\b\b\b\b\b\b\b\b\b\b\b\b\b\b\b\b\b\b\b\b\b\b\b\b\b\b44957696/45929032 bytes (97.9%)\b\b\b\b\b\b\b\b\b\b\b\b\b\b\b\b\b\b\b\b\b\b\b\b\b\b\b\b\b\b\b45929032/45929032 bytes (100.0%)\n",
            "  Done\n",
            "File saved as /root/.imageio/ffmpeg/ffmpeg-linux64-v3.3.1.\n",
            "[MoviePy] >>>> Building video output_1.mp4\n",
            "[MoviePy] Writing video output_1.mp4\n"
          ],
          "name": "stdout"
        },
        {
          "output_type": "stream",
          "text": [
            "100%|██████████| 301/301 [00:03<00:00, 77.42it/s]\n"
          ],
          "name": "stderr"
        },
        {
          "output_type": "stream",
          "text": [
            "[MoviePy] Done.\n",
            "[MoviePy] >>>> Video ready: output_1.mp4 \n",
            "\n",
            "0:00:28.827692\n",
            "output_1.mp4\n"
          ],
          "name": "stdout"
        }
      ]
    },
    {
      "cell_type": "code",
      "metadata": {
        "id": "F5pPiXjchk0g",
        "colab_type": "code",
        "colab": {}
      },
      "source": [
        "import zipfile\n",
        "zip_ref = zipfile.ZipFile('cracks.zip', 'r')\n",
        "zip_ref.extractall('cracks')\n",
        "zip_ref.close()"
      ],
      "execution_count": 0,
      "outputs": []
    },
    {
      "cell_type": "code",
      "metadata": {
        "id": "BLakeviY7VQR",
        "colab_type": "code",
        "colab": {}
      },
      "source": [
        "import pandas as pandas\n",
        "df = pandas.read_csv('/content/gdrive/My Drive/cracks/Shake_positions.csv', header=0)\n",
        "#df[['X','Y']]"
      ],
      "execution_count": 0,
      "outputs": []
    },
    {
      "cell_type": "code",
      "metadata": {
        "id": "9lqvnYKOqdR6",
        "colab_type": "code",
        "colab": {}
      },
      "source": [
        "!mkdir 'out'"
      ],
      "execution_count": 0,
      "outputs": []
    },
    {
      "cell_type": "code",
      "metadata": {
        "id": "H-g1nM5wHUlB",
        "colab_type": "code",
        "outputId": "fb52a0e9-9171-4db2-f78b-f559ed9a9830",
        "colab": {
          "base_uri": "https://localhost:8080/",
          "height": 221
        }
      },
      "source": [
        "from __future__ import print_function\n",
        "from matplotlib import pyplot as plt\n",
        "import cv2\n",
        "import numpy as np\n",
        "import glob\n",
        "from cv2 import VideoWriter, VideoWriter_fourcc\n",
        "from datetime import datetime\n",
        "from PIL import Image, ImageFont, ImageDraw\n",
        "import glob\n",
        "def drawTextWithOutline(text, x, y, font):\n",
        "\n",
        "    draw.text((x-2, y-2), text,(0,0,0),font=font)\n",
        "    draw.text((x+2, y-2), text,(0,0,0),font=font)\n",
        "    draw.text((x+2, y+2), text,(0,0,0),font=font)\n",
        "    draw.text((x-2, y+2), text,(0,0,0),font=font)\n",
        "    draw.text((x, y), text, (255,255,255), font=font)\n",
        "    return\n",
        "  \n",
        "def drawText(text, pos, font):\n",
        "    text = text.upper()\n",
        "\n",
        "    w, h = draw.textsize(text, font) # measure the size the text will take\n",
        "\n",
        "    lineCount = 1\n",
        "    if w > img.width:\n",
        "        lineCount = int(round((w / img.width) + 1))\n",
        "\n",
        "    lines = []\n",
        "\n",
        "    if lineCount > 1:\n",
        "\n",
        "        lastCut = 0\n",
        "        isLast = False\n",
        "        for i in range(0,lineCount):\n",
        "            if lastCut == 0:\n",
        "                cut = int(len(text) / lineCount) * i\n",
        "            else:\n",
        "                cut = lastCut\n",
        "\n",
        "            if i < lineCount-1:\n",
        "                nextCut = int(len(text) / lineCount) * (i+1)\n",
        "            else:\n",
        "                nextCut = len(text)\n",
        "                isLast = True\n",
        "\n",
        "            # make sure we don't cut words in half\n",
        "            if nextCut == len(text) or text[nextCut] == \" \":\n",
        "                pass\n",
        "            else:\n",
        "                while text[nextCut] != \" \":\n",
        "                    nextCut += 1\n",
        "\n",
        "            line = text[cut:nextCut].strip()\n",
        "\n",
        "            # is line still fitting ?\n",
        "            w, h = draw.textsize(line, font)\n",
        "            if not isLast and w > img.width:\n",
        "                nextCut -= 1\n",
        "                while text[nextCut] != \" \":\n",
        "                    nextCut -= 1\n",
        "\n",
        "            lastCut = nextCut\n",
        "            lines.append(text[cut:nextCut].strip())\n",
        "\n",
        "    else:\n",
        "        lines.append(text)\n",
        "\n",
        "\n",
        "    lastY = -h\n",
        "    if pos == \"bottom\":\n",
        "        lastY = img.height - h * (lineCount+1) - 10\n",
        "    return lineCount, lines, lastY\n",
        "  \n",
        "def draw_all(lineCount, lines, lastY, font):\n",
        "  for i in range(0, lineCount):\n",
        "      w, h = draw.textsize(lines[i], font)\n",
        "      x = img.width/2 - w/2\n",
        "      y = lastY + h\n",
        "      drawTextWithOutline(lines[i], x, y, font)\n",
        "      lastY = y\n",
        "        \n",
        "        \n",
        "t = datetime.now()\n",
        "\n",
        "# [load]\n",
        "name_img = input(\"Enter name of image:\")\n",
        "src1 = cv2.imread('gdrive/My Drive/' + name_img)\n",
        "\n",
        "imgScale = 0.5\n",
        "size = (int(540*imgScale), int(540*imgScale))\n",
        "shape = (int(540*imgScale), int(540*imgScale))\n",
        "\n",
        "src1 = cv2.resize(src1, size)\n",
        "img = Image.fromarray(src1)\n",
        "bg = Image.open('gdrive/My Drive/' + name_img, 'r').resize(size=size)\n",
        "\n",
        "output = 'project_2.mp4'\n",
        "fourcc = cv2.VideoWriter_fourcc(*'DIVX')\n",
        "\n",
        "text = input(\"Enter text: \")\n",
        "print(text)\n",
        "if len(text)<10:\n",
        "  font = ImageFont.truetype(\"gdrive/My Drive/impact.ttf\", int(72*imgScale))\n",
        "elif len(text)<40:\n",
        "  font = ImageFont.truetype(\"gdrive/My Drive/impact.ttf\", int(62*imgScale))\n",
        "elif len(text)<60:\n",
        "  font = ImageFont.truetype(\"gdrive/My Drive/impact.ttf\", int(52*imgScale))\n",
        "else:\n",
        "  font = ImageFont.truetype(\"gdrive/My Drive/impact.ttf\", int(42*imgScale))\n",
        "img = Image.fromarray(src1)\n",
        "draw = ImageDraw.Draw(img)\n",
        "lineCount, lines, lastY = drawText(text, 'bottom', font)\n",
        "\n",
        "\n",
        "for i in range(25,150): \n",
        "  s = ''\n",
        "  if len(str(i))==2:\n",
        "    s = '0'\n",
        "  name = 'gdrive/My Drive/cracks/Comp 4 - cracks_00' + s + str(i) + '.png'\n",
        "  ironman = Image.open(name, 'r').resize(size=size)\n",
        "  text_img = Image.new('RGBA', size, (0, 0, 0, 0))\n",
        "  text_img.paste(bg, (0,0))\n",
        "  text_img.paste(ironman, (0,0), mask=ironman)\n",
        "  img = text_img\n",
        "  draw = ImageDraw.Draw(img)\n",
        "  draw_all(lineCount, lines, lastY, font)\n",
        "  img.save(\"out/\"+ str(i) + \".png\")\n",
        "  \n",
        "img_array = []\n",
        "for filename1 in range(25, 150):\n",
        "    filename = \"out/\"+ str(filename1) + \".png\"\n",
        "    img = cv2.imread(filename)\n",
        "    height, width, layers = img.shape\n",
        "    size = (width,height)\n",
        "    img_array.append(img)\n",
        "\n",
        "out = cv2.VideoWriter(output,cv2.VideoWriter_fourcc(*'DIVX'), 15, size)\n",
        " \n",
        "for i in range(len(img_array)):\n",
        "    out.write(img_array[i])\n",
        "out.release()\n",
        "print(datetime.now()-t)\n",
        "\n",
        "from moviepy.editor import *\n",
        "videoclip = VideoFileClip(output)\n",
        "videoclip.write_videofile(\"output_2.mp4\", audio=\"gdrive/My Drive/sound2.mp3\")\n",
        "print(datetime.now()-t)\n",
        "print('output_2.mp4')"
      ],
      "execution_count": 14,
      "outputs": [
        {
          "output_type": "stream",
          "text": [
            "Enter name of image:input2.jpg\n",
            "Enter text: Hi Sochi\n",
            "Hi Sochi\n",
            "0:01:05.649683\n",
            "[MoviePy] >>>> Building video output_2.mp4\n",
            "[MoviePy] Writing video output_2.mp4\n"
          ],
          "name": "stdout"
        },
        {
          "output_type": "stream",
          "text": [
            "100%|██████████| 125/125 [00:00<00:00, 164.54it/s]\n"
          ],
          "name": "stderr"
        },
        {
          "output_type": "stream",
          "text": [
            "[MoviePy] Done.\n",
            "[MoviePy] >>>> Video ready: output_2.mp4 \n",
            "\n",
            "0:01:06.636451\n",
            "output_2.mp4\n"
          ],
          "name": "stdout"
        }
      ]
    },
    {
      "cell_type": "code",
      "metadata": {
        "id": "oJuuPrv_n9j-",
        "colab_type": "code",
        "outputId": "1ca08597-7e38-4110-a3cb-ecb390d58265",
        "colab": {
          "base_uri": "https://localhost:8080/",
          "height": 269
        }
      },
      "source": [
        "%matplotlib inline\n",
        "imgplot = plt.imshow(image)"
      ],
      "execution_count": 0,
      "outputs": [
        {
          "output_type": "display_data",
          "data": {
            "image/png": "[encoded data removed]",
            "text/plain": [
              "<Figure size 432x288 with 1 Axes>"
            ]
          },
          "metadata": {
            "tags": []
          }
        }
      ]
    },
    {
      "cell_type": "code",
      "metadata": {
        "id": "Y_CHR_XuI4Rq",
        "colab_type": "code",
        "outputId": "7c9cde9e-17b0-46a1-f5bc-9498ecb96bc8",
        "colab": {
          "base_uri": "https://localhost:8080/",
          "height": 367
        }
      },
      "source": [
        "def create_blank(width, height, rgb_color=(0, 0, 0)):\n",
        "    \"\"\"Create new image(numpy array) filled with certain color in RGB\"\"\"\n",
        "    # Create black blank image\n",
        "    image = np.zeros((height, width, 3), np.uint8)\n",
        "\n",
        "    # Since OpenCV uses BGR, convert the color first\n",
        "    color = tuple(reversed(rgb_color))\n",
        "    # Fill image with color\n",
        "    image[:] = color\n",
        "\n",
        "    return image\n",
        "\n",
        "width, height = size\n",
        "\n",
        "red = (0, 0, 0)\n",
        "image = create_blank(width, height, rgb_color=red)\n",
        "img = cv2.imread('gdrive/My Drive/input.jpg')\n",
        "img = cv2.resize(img, size)\n",
        "x_offset=y_offset=5\n",
        "for i in range(len(df)):\n",
        "  s = str(df.loc[i, 'D1'])\n",
        "  s = s.replace(',', '.')\n",
        "  x_offset = int(float(s) * width)\n",
        "  print(float(s))\n",
        "  s = str(df.loc[i, 'D2'])\n",
        "  s = s.replace(',', '.')\n",
        "  y_offset = int(float(s) * height)\n",
        "  print(y_offset)\n",
        "  if x_offset>=0 and y_offset>=0:\n",
        "    roi = img[x_offset:width, y_offset:height]\n",
        "    image[y_offset:y_offset+roi.shape[0], 0:roi.shape[1]] = roi\n",
        "  elif x_offset<=0 and y_offset>=0:  \n",
        "    roi = img[0:width+x_offset, y_offset:height]\n",
        "    image[y_offset:y_offset+roi.shape[0], 0:roi.shape[1]] = roi\n",
        "  elif x_offset>=0 and y_offset<=0:  \n",
        "    roi = img[x_offset:width, 0:y_offset+height]\n",
        "    image[0:roi.shape[0], x_offset:x_offset+roi.shape[1]] = roi\n",
        "  elif x_offset<=0 and y_offset<=0:  \n",
        "    roi = img[0:width+x_offset, 0:y_offset+height]\n",
        "    image[0:roi.shape[0], 0:roi.shape[1]] = roi \n",
        "  print(i)\n",
        "  \n",
        "  cv2.imwrite('out_1/' + str(i) + '.png', image)  "
      ],
      "execution_count": 0,
      "outputs": [
        {
          "output_type": "stream",
          "text": [
            "0.0\n",
            "0\n",
            "0\n",
            "0.5\n",
            "135\n",
            "1\n",
            "-0.7\n",
            "243\n"
          ],
          "name": "stdout"
        },
        {
          "output_type": "error",
          "ename": "ValueError",
          "evalue": "ignored",
          "traceback": [
            "\u001b[0;31m---------------------------------------------------------------------------\u001b[0m",
            "\u001b[0;31mValueError\u001b[0m                                Traceback (most recent call last)",
            "\u001b[0;32m<ipython-input-65-5252ed572641>\u001b[0m in \u001b[0;36m<module>\u001b[0;34m()\u001b[0m\n\u001b[1;32m     32\u001b[0m   \u001b[0;32melif\u001b[0m \u001b[0mx_offset\u001b[0m\u001b[0;34m<=\u001b[0m\u001b[0;36m0\u001b[0m \u001b[0;32mand\u001b[0m \u001b[0my_offset\u001b[0m\u001b[0;34m>=\u001b[0m\u001b[0;36m0\u001b[0m\u001b[0;34m:\u001b[0m\u001b[0;34m\u001b[0m\u001b[0;34m\u001b[0m\u001b[0m\n\u001b[1;32m     33\u001b[0m     \u001b[0mroi\u001b[0m \u001b[0;34m=\u001b[0m \u001b[0mimg\u001b[0m\u001b[0;34m[\u001b[0m\u001b[0;36m0\u001b[0m\u001b[0;34m:\u001b[0m\u001b[0mwidth\u001b[0m\u001b[0;34m+\u001b[0m\u001b[0mx_offset\u001b[0m\u001b[0;34m,\u001b[0m \u001b[0my_offset\u001b[0m\u001b[0;34m:\u001b[0m\u001b[0mheight\u001b[0m\u001b[0;34m]\u001b[0m\u001b[0;34m\u001b[0m\u001b[0;34m\u001b[0m\u001b[0m\n\u001b[0;32m---> 34\u001b[0;31m     \u001b[0mimage\u001b[0m\u001b[0;34m[\u001b[0m\u001b[0my_offset\u001b[0m\u001b[0;34m:\u001b[0m\u001b[0my_offset\u001b[0m\u001b[0;34m+\u001b[0m\u001b[0mroi\u001b[0m\u001b[0;34m.\u001b[0m\u001b[0mshape\u001b[0m\u001b[0;34m[\u001b[0m\u001b[0;36m0\u001b[0m\u001b[0;34m]\u001b[0m\u001b[0;34m,\u001b[0m \u001b[0;36m0\u001b[0m\u001b[0;34m:\u001b[0m\u001b[0mroi\u001b[0m\u001b[0;34m.\u001b[0m\u001b[0mshape\u001b[0m\u001b[0;34m[\u001b[0m\u001b[0;36m1\u001b[0m\u001b[0;34m]\u001b[0m\u001b[0;34m]\u001b[0m \u001b[0;34m=\u001b[0m \u001b[0mroi\u001b[0m\u001b[0;34m\u001b[0m\u001b[0;34m\u001b[0m\u001b[0m\n\u001b[0m\u001b[1;32m     35\u001b[0m   \u001b[0;32melif\u001b[0m \u001b[0mx_offset\u001b[0m\u001b[0;34m>=\u001b[0m\u001b[0;36m0\u001b[0m \u001b[0;32mand\u001b[0m \u001b[0my_offset\u001b[0m\u001b[0;34m<=\u001b[0m\u001b[0;36m0\u001b[0m\u001b[0;34m:\u001b[0m\u001b[0;34m\u001b[0m\u001b[0;34m\u001b[0m\u001b[0m\n\u001b[1;32m     36\u001b[0m     \u001b[0mroi\u001b[0m \u001b[0;34m=\u001b[0m \u001b[0mimg\u001b[0m\u001b[0;34m[\u001b[0m\u001b[0mx_offset\u001b[0m\u001b[0;34m:\u001b[0m\u001b[0mwidth\u001b[0m\u001b[0;34m,\u001b[0m \u001b[0;36m0\u001b[0m\u001b[0;34m:\u001b[0m\u001b[0my_offset\u001b[0m\u001b[0;34m+\u001b[0m\u001b[0mheight\u001b[0m\u001b[0;34m]\u001b[0m\u001b[0;34m\u001b[0m\u001b[0;34m\u001b[0m\u001b[0m\n",
            "\u001b[0;31mValueError\u001b[0m: could not broadcast input array from shape (81,27,3) into shape (27,27,3)"
          ]
        }
      ]
    }
  ]
}